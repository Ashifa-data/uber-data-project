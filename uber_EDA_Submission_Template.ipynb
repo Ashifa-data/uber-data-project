{
  "nbformat": 4,
  "nbformat_minor": 0,
  "metadata": {
    "colab": {
      "private_outputs": true,
      "provenance": [],
      "include_colab_link": true
    },
    "kernelspec": {
      "name": "python3",
      "display_name": "Python 3"
    },
    "language_info": {
      "name": "python"
    }
  },
  "cells": [
    {
      "cell_type": "markdown",
      "metadata": {
        "id": "view-in-github",
        "colab_type": "text"
      },
      "source": [
        "<a href=\"https://colab.research.google.com/github/Ashifa-data/uber-data-project/blob/main/uber_EDA_Submission_Template.ipynb\" target=\"_parent\"><img src=\"https://colab.research.google.com/assets/colab-badge.svg\" alt=\"Open In Colab\"/></a>"
      ]
    },
    {
      "cell_type": "markdown",
      "source": [
        "# **Project Name**    -UBER SUPPLY DEMAND GAPS\n"
      ],
      "metadata": {
        "id": "vncDsAP0Gaoa"
      }
    },
    {
      "cell_type": "markdown",
      "source": [
        "##### **Project Type**    - EDA\n",
        "##### **Contribution**    - Individual\n"
      ],
      "metadata": {
        "id": "beRrZCGUAJYm"
      }
    },
    {
      "cell_type": "markdown",
      "source": [
        "# **Project Summary -**"
      ],
      "metadata": {
        "id": "FJNUwmbgGyua"
      }
    },
    {
      "cell_type": "markdown",
      "source": [
        "**Objective:**\n",
        "The goal of this Exploratory Data Analysis (EDA) project is to identify patterns, problems, and opportunities within Uber’s ride request data. The primary business focus is to understand the supply-demand gap and explore why many trip requests do not get fulfilled, especially during peak hours.\n",
        "\n",
        "**Dataset Overview:**\n",
        "The dataset contains records of Uber ride requests including:\n",
        "\n",
        "Request timestamp\n",
        "\n",
        "Drop timestamp\n",
        "\n",
        "Pickup point (City/Airport)\n",
        "\n",
        "Trip status (Completed, Cancelled, No Cars Available)\n",
        "\n",
        "Additional calculated fields like Request Hour, Trip Duration, etc.\n",
        "\n",
        "**Methodology** *:\n",
        "Cleaned and converted timestamp formats.\n",
        "\n",
        "Created derived fields such as request hour, day of the week, and trip duration.\n",
        "\n",
        "Visualized data using 15 insightful charts to uncover trends in trip requests, failures, and supply bottlenecks.\n",
        "\n",
        "Focused analysis on time-based and location-based behavior to offer actionable suggestions.\n",
        "\n",
        "**Tools Used:**\n",
        "Python Pandas for data manipulation\n",
        "\n",
        "Seaborn & Matplotlib for visualization\n",
        "\n",
        "google colab environmenet\n",
        "\n",
        "**Outcome:**\n",
        "Identified that trip failures are significantly high, especially during peak hours (7–9 AM and 5–8 PM).\n",
        "\n",
        "Different issues affect different pickup points (e.g., cancellations in the City, no cars at the Airport).\n",
        "\n",
        "Clear need for driver reallocation, better scheduling, and customer communication strategies.\n",
        "\n",
        "Suggested targeted solutions that Uber can implement to reduce failed trip rates, improve customer satisfaction, and increase revenue.\n",
        "\n"
      ],
      "metadata": {
        "id": "F6v_1wHtG2nS"
      }
    },
    {
      "cell_type": "markdown",
      "source": [
        "# **GitHub Link -**"
      ],
      "metadata": {
        "id": "w6K7xa23Elo4"
      }
    },
    {
      "cell_type": "markdown",
      "source": [
        "Provide your GitHub Link here."
      ],
      "metadata": {
        "id": "h1o69JH3Eqqn"
      }
    },
    {
      "cell_type": "markdown",
      "source": [
        "# **Problem Statement**\n"
      ],
      "metadata": {
        "id": "yQaldy8SH6Dl"
      }
    },
    {
      "cell_type": "markdown",
      "source": [
        "Uber operates in a highly dynamic environment where balancing rider demand and driver supply is critical. During peak hours or specific times of day, customers experience delays or fail to get a cab, leading to cancellations and dissatisfaction. On the other hand, idle drivers at off-peak hours indicate resource underutilization. This imbalance leads to a direct impact on Uber’s revenue, customer satisfaction, and brand reliability.\n",
        "\n",
        "This project aims to investigate Uber’s cab request data from a specific time period to identify:\n",
        "\n",
        "What time periods see the highest demand-supply gap?\n",
        "\n",
        "What proportion of requests get canceled or rejected?\n",
        "\n",
        "Which times of day see the most trip completions vs. failures?\n",
        "\n",
        "What recommendations can improve service efficiency and customer satisfaction?\n",
        "\n"
      ],
      "metadata": {
        "id": "DpeJGUA3kjGy"
      }
    },
    {
      "cell_type": "markdown",
      "source": [
        "#### **Define Your Business Objective?**"
      ],
      "metadata": {
        "id": "PH-0ReGfmX4f"
      }
    },
    {
      "cell_type": "markdown",
      "source": [
        "Minimize the demand-supply gap by identifying time windows where there is either a surge in demand or a lack of driver availability.\n",
        "\n",
        "Improve customer satisfaction by reducing trip cancellations and unfulfilled requests.\n",
        "\n",
        "Optimize driver allocation and availability during peak and non-peak hours.\n",
        "\n",
        "Provide actionable recommendations to Uber's operations team, backed by data visualizations and trend analysis, so that they can make data-driven decisions that improve overall service delivery.\n",
        "\n",
        "By achieving the above, Uber can expect:\n",
        "\n",
        "Higher trip completion rates.\n",
        "\n",
        "Lower cancellation rates.\n",
        "\n",
        "Better driver utilization and earnings.\n",
        "\n",
        "A more reliable experience for riders.\n"
      ],
      "metadata": {
        "id": "PhDvGCAqmjP1"
      }
    },
    {
      "cell_type": "markdown",
      "source": [
        "# **General Guidelines** : -  "
      ],
      "metadata": {
        "id": "mDgbUHAGgjLW"
      }
    },
    {
      "cell_type": "markdown",
      "source": [
        "1.   Well-structured, formatted, and commented code is required.\n",
        "2.   Exception Handling, Production Grade Code & Deployment Ready Code will be a plus. Those students will be awarded some additional credits.\n",
        "     \n",
        "     The additional credits will have advantages over other students during Star Student selection.\n",
        "       \n",
        "             [ Note: - Deployment Ready Code is defined as, the whole .ipynb notebook should be executable in one go\n",
        "                       without a single error logged. ]\n",
        "\n",
        "3.   Each and every logic should have proper comments.\n",
        "4. You may add as many number of charts you want. Make Sure for each and every chart the following format should be answered.\n",
        "        \n",
        "\n",
        "```\n",
        "# Chart visualization code\n",
        "```\n",
        "            \n",
        "\n",
        "*   Why did you pick the specific chart?\n",
        "*   What is/are the insight(s) found from the chart?\n",
        "* Will the gained insights help creating a positive business impact?\n",
        "Are there any insights that lead to negative growth? Justify with specific reason.\n",
        "\n",
        "5. You have to create at least 20 logical & meaningful charts having important insights.\n",
        "\n",
        "\n",
        "[ Hints : - Do the Vizualization in  a structured way while following \"UBM\" Rule.\n",
        "\n",
        "U - Univariate Analysis,\n",
        "\n",
        "B - Bivariate Analysis (Numerical - Categorical, Numerical - Numerical, Categorical - Categorical)\n",
        "\n",
        "M - Multivariate Analysis\n",
        " ]\n",
        "\n",
        "\n",
        "\n"
      ],
      "metadata": {
        "id": "ZrxVaUj-hHfC"
      }
    },
    {
      "cell_type": "markdown",
      "source": [
        "# ***Let's Begin !***"
      ],
      "metadata": {
        "id": "O_i_v8NEhb9l"
      }
    },
    {
      "cell_type": "markdown",
      "source": [
        "## ***1. Know Your Data***"
      ],
      "metadata": {
        "id": "HhfV-JJviCcP"
      }
    },
    {
      "cell_type": "markdown",
      "source": [
        "### Import Libraries"
      ],
      "metadata": {
        "id": "Y3lxredqlCYt"
      }
    },
    {
      "cell_type": "code",
      "source": [
        "\n",
        "# Import pandas as pd\n",
        "import matplotlib.pyplot as plt\n",
        "import seaborn as sns"
      ],
      "metadata": {
        "id": "M8Vqi-pPk-HR"
      },
      "execution_count": null,
      "outputs": []
    },
    {
      "cell_type": "markdown",
      "source": [
        "### Dataset Loading"
      ],
      "metadata": {
        "id": "3RnN4peoiCZX"
      }
    },
    {
      "cell_type": "code",
      "source": [
        "\n",
        "from google.colab import files\n",
        "uploaded = files.upload()"
      ],
      "metadata": {
        "id": "4CkvbW_SlZ_R"
      },
      "execution_count": null,
      "outputs": []
    },
    {
      "cell_type": "markdown",
      "source": [
        "### Dataset First View"
      ],
      "metadata": {
        "id": "x71ZqKXriCWQ"
      }
    },
    {
      "cell_type": "code",
      "source": [
        "import pandas as pd\n",
        "df = pd.read_csv(\"uber_data_clean.csv\")\n",
        "df.head()"
      ],
      "metadata": {
        "id": "LWNFOSvLl09H"
      },
      "execution_count": null,
      "outputs": []
    },
    {
      "cell_type": "markdown",
      "source": [
        "### Dataset Rows & Columns count"
      ],
      "metadata": {
        "id": "7hBIi_osiCS2"
      }
    },
    {
      "cell_type": "code",
      "source": [
        "import pandas as pd\n",
        "\n",
        "\n",
        "df = pd.read_csv('uber_data_clean.csv')\n",
        "\n",
        "\n",
        "print(\"The dataset contains:\")\n",
        "print(f\" {df.shape[0]} rows\")\n",
        "print(f\" {df.shape[1]} columns\")"
      ],
      "metadata": {
        "id": "Kllu7SJgmLij"
      },
      "execution_count": null,
      "outputs": []
    },
    {
      "cell_type": "markdown",
      "source": [
        "### Dataset Information"
      ],
      "metadata": {
        "id": "JlHwYmJAmNHm"
      }
    },
    {
      "cell_type": "code",
      "source": [
        "df.info()"
      ],
      "metadata": {
        "id": "e9hRXRi6meOf"
      },
      "execution_count": null,
      "outputs": []
    },
    {
      "cell_type": "markdown",
      "source": [
        "#### Duplicate Values"
      ],
      "metadata": {
        "id": "35m5QtbWiB9F"
      }
    },
    {
      "cell_type": "code",
      "source": [
        "df.isnull().sum()"
      ],
      "metadata": {
        "id": "1sLdpKYkmox0"
      },
      "execution_count": null,
      "outputs": []
    },
    {
      "cell_type": "markdown",
      "source": [
        "#### Missing Values/Null Values"
      ],
      "metadata": {
        "id": "PoPl-ycgm1ru"
      }
    },
    {
      "cell_type": "code",
      "source": [
        "print(\"Missing values:\\n\", df.isnull().sum())"
      ],
      "metadata": {
        "id": "GgHWkxvamxVg"
      },
      "execution_count": null,
      "outputs": []
    },
    {
      "cell_type": "code",
      "source": [
        "import seaborn as sns\n",
        "import matplotlib.pyplot as plt\n",
        "\n",
        "# Set up the figure\n",
        "plt.figure(figsize=(10, 6))\n",
        "sns.heatmap(df.isnull(), cbar=False, cmap='viridis')\n",
        "plt.title(\"Missing Values Heatmap\", fontsize=14)\n",
        "plt.show()"
      ],
      "metadata": {
        "id": "PFmWgx8tV3Mw"
      },
      "execution_count": null,
      "outputs": []
    },
    {
      "cell_type": "code",
      "source": [],
      "metadata": {
        "id": "3q5wnI3om9sJ"
      },
      "execution_count": null,
      "outputs": []
    },
    {
      "cell_type": "markdown",
      "source": [
        "### What did you know about your dataset?"
      ],
      "metadata": {
        "id": "H0kj-8xxnORC"
      }
    },
    {
      "cell_type": "markdown",
      "source": [
        "Answer :\n",
        "HereThe dataset represents Uber ride requests collected over a short time span in July 2016 in Bangalore, India. It includes key details related to trip requests made by users via the Uber platform. By examining the dataset, we gain the following key observations:\n",
        "\n",
        " 1.Basic Structure and Scope\n",
        "The dataset contains 6 columns and over 6,000+ rows.\n",
        "Each row represents a single ride request made by a customer.\n",
        "\n",
        "2.Key Features Present\n",
        "Request timestamp and Drop timestamp: These help in determining trip duration and identifying peak or idle hours.\n",
        "Pickup point: Indicates whether the ride request was from the airport or city.\n",
        "Driver ID: Available only for rides that were assigned to a driver.\n",
        "Status: This is the most critical column with three categories:\n",
        "Trip Completed\n",
        "Cancelled\n",
        "No Cars Available\n",
        " 3.Initial Observations\n",
        "A large portion of requests were not fulfilled due to driver unavailability or cancellations.\n",
        "Missing values appear mainly in the Drop timestamp and Driver ID, which logically aligns with trips that were not completed.\n",
        "The time-based data allows us to segment requests into parts of the day (early morning, day, evening, night) and study demand patterns.\n",
        "No categorical columns are encoded yet, and datetime formatting is needed for analysis.\n",
        "Data is imbalanced in terms of trip status — this provides opportunity for gap analysis (demand vs. supply).\n",
        "Duplicate records are minimal or non-existent, and overall, the dataset is relatively clean.\n",
        " 2.Usefulness\n",
        "This dataset is suitable for:\n",
        "Exploratory Data Analysis (EDA)\n",
        "Time series breakdown\n",
        "Demand-supply gap identification\n",
        "Operational inefficiency detection\n",
        "Business insights for decision-making and improvement"
      ],
      "metadata": {
        "id": "gfoNAAC-nUe_"
      }
    },
    {
      "cell_type": "markdown",
      "source": [
        "## ***2. Understanding Your Variables***"
      ],
      "metadata": {
        "id": "nA9Y7ga8ng1Z"
      }
    },
    {
      "cell_type": "code",
      "source": [
        "df.columns"
      ],
      "metadata": {
        "id": "j7xfkqrt5Ag5"
      },
      "execution_count": null,
      "outputs": []
    },
    {
      "cell_type": "code",
      "source": [
        "df.describe()"
      ],
      "metadata": {
        "id": "DnOaZdaE5Q5t"
      },
      "execution_count": null,
      "outputs": []
    },
    {
      "cell_type": "markdown",
      "source": [
        "**Request Id ** - A unique identifier for each customer ride request\n",
        "**Pick up Point** - Indicates the pickup time location of the user- either city or\n",
        "                Airport. Helps in identifying demand patterens based on location.\n",
        "**Driver Id**  - The Id assigned to the driver who accepted the request. It is  missing for requests that were cancelled or not fulfilled.\n",
        "**Status**  -  The outcome of the request. It has three value: Trip completed,\n",
        "           cancelled or No cars available.\n",
        "**Request Timestamp**  - The date and time when the customer placed the ride request. used for creating time of day, weekday and hourly trend columns.\n",
        "**Drop timestamp**  -  The date and time when the trip was completed. Missing for incomplete trips( cancelled or no cars available).\n",
        "**Trip duration (mins)** - A derived variable representing the duration of completed\n",
        "                      trips in minutes, calculated from drop and request timestamps.\n",
        "**Time of day **- A derived categorical variable showing part of the day(e.g.,\n",
        "              Early morning, day, vening, night), extracted from the request timestamp.\n",
        "\n",
        "\n"
      ],
      "metadata": {
        "id": "PBTbrJXOngz2"
      }
    },
    {
      "cell_type": "code",
      "source": [],
      "metadata": {
        "id": "fZh4YfKZoed1"
      },
      "execution_count": null,
      "outputs": []
    },
    {
      "cell_type": "markdown",
      "source": [],
      "metadata": {
        "id": "aJV4KIxSnxay"
      }
    },
    {
      "cell_type": "markdown",
      "source": [
        "### Check Unique Values for each variable."
      ],
      "metadata": {
        "id": "u3PMJOP6ngxN"
      }
    },
    {
      "cell_type": "code",
      "source": [
        "# Step 1: Import Required Libraries\n",
        "import pandas as pd\n",
        "import numpy as np\n",
        "\n",
        "# Step 2: Load Dataset with Error Handling\n",
        "try:\n",
        "    uber_df = pd.read_csv('uber_data_clean.csv')\n",
        "    print(\"Dataset loaded successfully.\\n\")\n",
        "except FileNotFoundError:\n",
        "    print(\" Error: File 'uber_data_clean.csv' not found. Please check the file path.\")\n",
        "\n",
        "# Step 3: Display Column Names\n",
        "print(\" Columns in DataFrame:\")\n",
        "print(uber_df.columns.tolist())\n",
        "\n",
        "# Step 4: Display Unique Values Count and Sample Values in Each Column\n",
        "print(\"\\n Unique values and examples for each column:\\n\")\n",
        "for col in uber_df.columns:\n",
        "    print(f\" Column: {col}\")\n",
        "    print(f\"   - Unique Values: {uber_df[col].nunique()}\")\n",
        "    print(f\"   - Sample Values: {uber_df[col].dropna().unique()[:5]}\")\n",
        "    print(\"-\" * 60)\n"
      ],
      "metadata": {
        "id": "ZTSNTl-s3OiJ"
      },
      "execution_count": null,
      "outputs": []
    },
    {
      "cell_type": "markdown",
      "source": [
        "## 3. ***Data Wrangling***"
      ],
      "metadata": {
        "id": "dauF4eBmngu3"
      }
    },
    {
      "cell_type": "markdown",
      "source": [
        "### Data Wrangling Code"
      ],
      "metadata": {
        "id": "bKJF3rekwFvQ"
      }
    },
    {
      "cell_type": "code",
      "source": [
        "import pandas as pd\n",
        "\n",
        "# Step 1: Load the data\n",
        "uber_df = pd.read_csv('uber_data_clean.csv')\n",
        "\n",
        "# Step 2: Convert both timestamp columns to datetime\n",
        "uber_df['Request timestamp'] = pd.to_datetime(uber_df['Request timestamp'], dayfirst=True, errors='coerce')\n",
        "uber_df['Drop timestamp'] = pd.to_datetime(uber_df['Drop timestamp'], dayfirst=True, errors='coerce')\n",
        "\n",
        "# Step 3: Calculate Trip Duration (in minutes)\n",
        "uber_df['Trip Duration (mins)'] = (uber_df['Drop timestamp'] - uber_df['Request timestamp']).dt.total_seconds() / 60\n",
        "\n",
        "# Step 4: Preview\n",
        "print(uber_df[['Request timestamp', 'Drop timestamp', 'Trip Duration (mins)']].head())\n",
        "\n",
        "# Create a new column: Trip Duration (in minutes)\n",
        "uber_df['Trip Duration (mins)'] = (uber_df['Drop timestamp'] - uber_df['Request timestamp']).dt.total_seconds() / 60\n",
        "\n",
        "# Create a column: Hour of Request\n",
        "uber_df['Request Hour'] = uber_df['Request timestamp'].dt.hour\n",
        "\n",
        "# Create a column: Day of the Week\n",
        "uber_df['Request Day'] = uber_df['Request timestamp'].dt.day_name()\n",
        "\n",
        "# Create a new column: Time of Day\n",
        "def get_time_of_day(hour):\n",
        "    if 0 <= hour < 4:\n",
        "        return 'Late Night'\n",
        "    elif 4 <= hour < 10:\n",
        "        return 'Early Morning'\n",
        "    elif 10 <= hour < 17:\n",
        "        return 'Day Time'\n",
        "    elif 17 <= hour < 22:\n",
        "        return 'Evening'\n",
        "    else:\n",
        "        return 'Night'\n",
        "\n",
        "uber_df['Time of Day'] = uber_df['Request Hour'].apply(get_time_of_day)\n",
        "\n",
        "# Reset index (optional)\n",
        "uber_df.reset_index(drop=True, inplace=True)\n",
        "\n",
        "# Drop duplicates if any\n",
        "uber_df.drop_duplicates(inplace=True)\n",
        "\n",
        "# Show basic stats to confirm wrangling is complete\n",
        "uber_df[['Trip Duration (mins)', 'Request Hour']].describe()\n"
      ],
      "metadata": {
        "id": "wk-9a2fpoLcV"
      },
      "execution_count": null,
      "outputs": []
    },
    {
      "cell_type": "code",
      "source": [
        "uber_df['Trip duration(mins)'] = (\n",
        "    uber_df['Drop timestamp'] - uber_df['Request timestamp']\n",
        ").dt.total_seconds() / 60\n",
        "\n",
        "\n",
        "print(uber_df[['Trip duration(mins)']].head())\n",
        "\n"
      ],
      "metadata": {
        "id": "a0ItEBph4sWx"
      },
      "execution_count": null,
      "outputs": []
    },
    {
      "cell_type": "code",
      "source": [
        "\n",
        "uber_df['Request Hour'] = uber_df['Request timestamp'].dt.hour\n",
        "uber_df['Request Day'] = uber_df['Request timestamp'].dt.day_name()\n",
        "\n",
        "def get_time_of_day(hour):\n",
        "    if 0 <= hour < 4:\n",
        "        return 'Late Night'\n",
        "    elif 4 <= hour < 10:\n",
        "        return 'Early Morning'\n",
        "    elif 10 <= hour < 17:\n",
        "        return 'Day Time'\n",
        "    elif 17 <= hour < 22:\n",
        "        return 'Evening'\n",
        "    else:\n",
        "        return 'Night'\n",
        "\n",
        "uber_df['Time of Day'] = uber_df['Request Hour'].apply(get_time_of_day)\n",
        "\n",
        "\n",
        "uber_df[['Trip Duration (mins)', 'Request Hour', 'Time of Day']].head()"
      ],
      "metadata": {
        "id": "EoOs51m848uW"
      },
      "execution_count": null,
      "outputs": []
    },
    {
      "cell_type": "markdown",
      "source": [
        "### What all manipulations have you done and insights you found?"
      ],
      "metadata": {
        "id": "MSa1f5Uengrz"
      }
    },
    {
      "cell_type": "markdown",
      "source": [
        "**1.Converted date/time columns:**\n",
        "Converted 'Request timestamp' and 'Drop timestamp' to proper datetime format using pd.to_datetime() with dayfirst=True.\n",
        "**2.Created new columns:**\n",
        "Request Hour: Extracted the hour from Request timestamp.\n",
        "Request Day: Extracted the day of the week from Request timestamp.\n",
        "Trip Duration (mins): Calculated the duration in minutes from Drop timestamp - Request timestamp.\n",
        "**3.Handled Missing Data:**\n",
        "Used errors='coerce' for drop timestamp to handle missing/inconsistent entries.\n",
        "**4.Dropped or flagged missing/incomplete records:**\n",
        "Trips with missing drop timestamps or durations (i.e., canceled or no car available) are retained for status-wise analysis but excluded where duration is needed.\n",
        " Initial Insights from EDA\n",
        " Univariate Analysis:\n",
        "\n",
        "**1.Trip Status Distribution:**\n",
        "A significant number of trips are either cancelled or show no cars available.\n",
        "Only a portion of requests are actually completed.\n",
        "**2.Pickup Point Distribution:**\n",
        "More requests are made from the airport than the city.\n",
        "However, more cancellations and \"no cars\" statuses are seen in city pickups.\n",
        "**3.Time of Day Patterns:**\n",
        "Morning rush hour (5–9 AM) and evening (5–9 PM) show the highest request volume.\n",
        "During evening peak hours, there's a large supply-demand gap, especially for airport pickups.\n",
        "**4.Trip Duration:**\n",
        "Most trips last between 15 to 40 minutes, but city trips are generally shorter than airport trips.\n",
        "Very few long-duration trips observed.\n",
        " **Bivariate/Multivariate Analysis (Insights Planned or In Progress):**\n",
        "1.Status vs Pickup Point vs Time of Day:\n",
        "We observed cancellations in city mornings and no cars at airport in evenings.\n",
        "Will show these clearly using grouped bar plots and heatmaps.\n",
        "2.Demand vs Supply Gap:\n",
        "Planned visualization: Overlay demand vs completed trips across time blocks.\n",
        "Clear evidence of operational bottlenecks at certain times.\n",
        "**Summary of Key Problems Identified**:\n",
        "Major supply issues during peak hours, especially in evening airport pickups.\n",
        "High cancellation rates by drivers in morning city pickups.\n",
        "Potential inefficiencies in fleet distribution and driver availability.Answer Here."
      ],
      "metadata": {
        "id": "LbyXE7I1olp8"
      }
    },
    {
      "cell_type": "markdown",
      "source": [
        "## ***4. Data Vizualization, Storytelling & Experimenting with charts : Understand the relationships between variables***"
      ],
      "metadata": {
        "id": "GF8Ens_Soomf"
      }
    },
    {
      "cell_type": "markdown",
      "source": [
        "#### Chart - 1"
      ],
      "metadata": {
        "id": "0wOQAZs5pc--"
      }
    },
    {
      "cell_type": "code",
      "source": [
        "import seaborn as sns\n",
        "import matplotlib.pyplot as plt\n",
        "\n",
        "plt.figure(figsize=(8, 5))\n",
        "sns.countplot(data=uber_df, x='Status', palette='Set2')\n",
        "plt.title('Trip Status Distribution')\n",
        "plt.xlabel('Status')\n",
        "plt.ylabel('Number of Requests')\n",
        "plt.show()"
      ],
      "metadata": {
        "id": "7v_ESjsspbW7"
      },
      "execution_count": null,
      "outputs": []
    },
    {
      "cell_type": "markdown",
      "source": [
        "I chose a bar chart because it’s the best visual to show frequency comparison across categories. Since the Status column contains categorical values, a bar chart clearly highlights which status occurs most often and is easy to interpret.\n"
      ],
      "metadata": {
        "id": "K5QZ13OEpz2H"
      }
    },
    {
      "cell_type": "markdown",
      "source": [
        "Answer Here."
      ],
      "metadata": {
        "id": "XESiWehPqBRc"
      }
    },
    {
      "cell_type": "markdown",
      "source": [
        "The chart shows that \"No Cars Available\" is the most common status, followed by \"Completed\", and then \"Cancelled\".\n",
        "This indicates a demand-supply mismatch, especially during peak hours, when users are more likely to face unavailability.\n",
        "Only a portion of the total ride requests are being successfully completed, which is a performance concern."
      ],
      "metadata": {
        "id": "lQ7QKXXCp7Bj"
      }
    },
    {
      "cell_type": "markdown",
      "source": [
        "Absolutely. These insights can:\n",
        "\n",
        "Help the company identify service inefficiencies.\n",
        "Allow better driver allocation in areas or times with high “No Cars Available” counts.\n",
        "Increase customer satisfaction and retention by addressing the root causes of missed ride opportunities.Answer Here"
      ],
      "metadata": {
        "id": "C_j1G7yiqdRP"
      }
    },
    {
      "cell_type": "markdown",
      "source": [],
      "metadata": {
        "id": "448CDAPjqfQr"
      }
    },
    {
      "cell_type": "markdown",
      "source": [
        "Yes:\n",
        "\n",
        "High \"No Cars Available\" or \"Cancelled\" trip statuses can result in lost revenue, user frustration, and negative brand perception.\n",
        "If users repeatedly experience failures in booking rides, they may switch to competitors, affecting Uber's market share.Answer Here"
      ],
      "metadata": {
        "id": "3cspy4FjqxJW"
      }
    },
    {
      "cell_type": "markdown",
      "source": [
        "#### Chart - 2"
      ],
      "metadata": {
        "id": "KSlN3yHqYklG"
      }
    },
    {
      "cell_type": "code",
      "source": [
        "from google.colab import files\n",
        "uploaded = files.upload()\n"
      ],
      "metadata": {
        "id": "R4YgtaqtYklH"
      },
      "execution_count": null,
      "outputs": []
    },
    {
      "cell_type": "code",
      "source": [
        "import pandas as pd\n",
        "import matplotlib.pyplot as plt\n",
        "import seaborn as sns\n",
        "\n",
        "uber_df = pd.read_csv('uber_data_clean.csv')\n",
        "\n",
        "\n",
        "plt.figure(figsize=(8, 5))\n",
        "sns.countplot(data=uber_df, x='Pickup point', palette='viridis')\n",
        "plt.title('Pickup Point Distribution', fontsize=14)\n",
        "plt.xlabel('Pickup Point', fontsize=12)\n",
        "plt.ylabel('Number of Requests', fontsize=12)\n",
        "plt.tight_layout()\n",
        "plt.show()\n"
      ],
      "metadata": {
        "id": "PMTzz0cIqPax"
      },
      "execution_count": null,
      "outputs": []
    },
    {
      "cell_type": "markdown",
      "source": [
        "I selected a bar chart because it provides a clear comparison of how many requests come from each pickup point. This helps identify where demand is higher, enabling better resource planning.\n",
        "\n"
      ],
      "metadata": {
        "id": "t6dVpIINYklI"
      }
    },
    {
      "cell_type": "markdown",
      "source": [
        "Answer Here."
      ],
      "metadata": {
        "id": "5aaW0BYyYklI"
      }
    },
    {
      "cell_type": "markdown",
      "source": [
        "The City has a significantly higher number of ride requests than the Airport.\n",
        "\n",
        "This suggests that most Uber users in this dataset are trying to get a ride from the city rather than from the airport.\n",
        "\n",
        "We can infer greater demand for drivers in the City area, especially during rush hours."
      ],
      "metadata": {
        "id": "ijmpgYnKYklI"
      }
    },
    {
      "cell_type": "markdown",
      "source": [
        "Answer Here"
      ],
      "metadata": {
        "id": "PSx9atu2YklI"
      }
    },
    {
      "cell_type": "markdown",
      "source": [
        "Yes:\n",
        "\n",
        "The company can optimize driver deployment by assigning more cabs to high-demand pickup zones like the City.\n",
        "\n",
        "For the Airport, Uber can analyze if low demand is due to driver restrictions, high wait times, or limited user awareness, and improve accordingly.\n",
        "\n",
        "\n",
        "Any insights that lead to negative growth? Justify.\n",
        "If the Airport has fewer requests but a higher percentage of cancelled or unfulfilled rides, this could lead to dissatisfaction among air travelers, a valuable customer segment.\n",
        "\n",
        "Ignoring low-volume pickup points may result in missed opportunities for growth in quieter areas.\n",
        "\n"
      ],
      "metadata": {
        "id": "-JiQyfWJYklI"
      }
    },
    {
      "cell_type": "markdown",
      "source": [
        "Answer Here"
      ],
      "metadata": {
        "id": "BcBbebzrYklV"
      }
    },
    {
      "cell_type": "markdown",
      "source": [
        "#### Chart - 3"
      ],
      "metadata": {
        "id": "EM7whBJCYoAo"
      }
    },
    {
      "cell_type": "code",
      "source": [
        "plt.figure(figsize=(10, 6))\n",
        "sns.countplot(data=uber_df, x='Pickup point', hue='Status', palette='Set2')\n",
        "plt.title('Request Status by Pickup Point', fontsize=14)\n",
        "plt.xlabel('Pickup Point', fontsize=12)\n",
        "plt.ylabel('Number of Requests', fontsize=12)\n",
        "plt.legend(title='Trip Status')\n",
        "plt.tight_layout()\n",
        "plt.show()\n"
      ],
      "metadata": {
        "id": "t6GMdE67YoAp"
      },
      "execution_count": null,
      "outputs": []
    },
    {
      "cell_type": "markdown",
      "source": [
        "I chose a grouped bar chart (countplot with hue) because it visually compares how trip statuses vary between the two pickup locations (City and Airport). This helps understand if the issues in trip completions are location-specific.\n",
        "\n"
      ],
      "metadata": {
        "id": "fge-S5ZAYoAp"
      }
    },
    {
      "cell_type": "markdown",
      "source": [
        "Answer Here."
      ],
      "metadata": {
        "id": "5dBItgRVYoAp"
      }
    },
    {
      "cell_type": "markdown",
      "source": [
        "The chart shows that:\n",
        "\n",
        "In City pickups, there are a high number of cancelled trips.\n",
        "\n",
        "In Airport pickups, a large number of trips show no cars available.\n",
        "\n",
        "Completed trips are relatively fewer compared to the total requests in both pickup points.\n",
        "\n"
      ],
      "metadata": {
        "id": "85gYPyotYoAp"
      }
    },
    {
      "cell_type": "markdown",
      "source": [
        "Answer Here"
      ],
      "metadata": {
        "id": "4jstXR6OYoAp"
      }
    },
    {
      "cell_type": "markdown",
      "source": [
        "Yes, these insights help identify area-specific issues in the Uber service:\n",
        "\n",
        "In the City, cancellations could be due to driver-side issues (delays, traffic).\n",
        "\n",
        "In the Airport, “no cars available” suggests a shortage of drivers, especially at certain times.\n",
        "\n",
        " Negative Insight: Unavailability and cancellations lead to customer dissatisfaction, reduced reliability, and loss of business.\n",
        "\n",
        " Business Action: Uber can improve resource allocation—possibly by:\n",
        "\n",
        "Incentivizing drivers to wait at the airport during peak hours.\n",
        "\n",
        "Reducing cancellation reasons by penalizing or educating drivers."
      ],
      "metadata": {
        "id": "RoGjAbkUYoAp"
      }
    },
    {
      "cell_type": "markdown",
      "source": [
        "Answer Here"
      ],
      "metadata": {
        "id": "zfJ8IqMcYoAp"
      }
    },
    {
      "cell_type": "markdown",
      "source": [
        "#### Chart - 4"
      ],
      "metadata": {
        "id": "4Of9eVA-YrdM"
      }
    },
    {
      "cell_type": "code",
      "source": [
        "\n",
        "uber_df['Request timestamp'] = pd.to_datetime(uber_df['Request timestamp'], dayfirst=True, errors='coerce')\n"
      ],
      "metadata": {
        "id": "irlUoxc8YrdO"
      },
      "execution_count": null,
      "outputs": []
    },
    {
      "cell_type": "code",
      "source": [
        "\n",
        "uber_df['Request Hour'] = uber_df['Request timestamp'].dt.hour\n",
        "\n",
        "plt.figure(figsize=(12, 6))\n",
        "sns.countplot(data=uber_df, x='Request Hour', hue='Status', palette='coolwarm')\n",
        "plt.title('Request Status by Hour of the Day', fontsize=14)\n",
        "plt.xlabel('Hour of the Day (24-hour format)', fontsize=12)\n",
        "plt.ylabel('Number of Requests', fontsize=12)\n",
        "plt.legend(title='Trip Status')\n",
        "plt.tight_layout()\n",
        "plt.show()\n"
      ],
      "metadata": {
        "id": "SlhkFsdvsRRq"
      },
      "execution_count": null,
      "outputs": []
    },
    {
      "cell_type": "markdown",
      "source": [
        "This grouped bar chart helps visualize time-based demand and service issues, allowing us to identify when most requests occur and at which hours cancellations or unavailability peak.\n",
        "\n"
      ],
      "metadata": {
        "id": "iky9q4vBYrdO"
      }
    },
    {
      "cell_type": "markdown",
      "source": [
        "Answer Here."
      ],
      "metadata": {
        "id": "aJRCwT6DYrdO"
      }
    },
    {
      "cell_type": "markdown",
      "source": [
        "Insights:\n",
        "\n",
        "High demand (and issues) occur during early morning hours (5–9 AM) and evening hours (5–9 PM).\n",
        "\n",
        "“No cars available” is extremely high during early morning hours, especially for airport pickups.\n",
        "\n",
        "Cancellations spike during evening hours, likely due to traffic or driver fatigue.\n",
        "\n"
      ],
      "metadata": {
        "id": "F6T5p64dYrdO"
      }
    },
    {
      "cell_type": "markdown",
      "source": [
        "Answer Here"
      ],
      "metadata": {
        "id": "Xx8WAJvtYrdO"
      }
    },
    {
      "cell_type": "markdown",
      "source": [
        "##### 3. Will the gained insights help creating a positive business impact?\n",
        "Are there any insights that lead to negative growth? Justify with specific reason."
      ],
      "metadata": {
        "id": "y-Ehk30pYrdP"
      }
    },
    {
      "cell_type": "markdown",
      "source": [
        "Yes! These insights can:\n",
        "\n",
        "Help Uber optimize driver supply by deploying more drivers in high-demand hours.\n",
        "\n",
        "Enable better incentive planning for drivers during peak hours.\n",
        "\n",
        "Reduce unavailability and cancellations, improving customer satisfaction and brand trust.\n",
        "\n",
        "Negative growth risk:\n",
        "\n",
        "Repeated unavailability or cancellations during peak hours may push users to switch to competitors.\n",
        "\n",
        "Customers may avoid using Uber during rush hours, affecting revenue.\n",
        "\n",
        " Using these insights for better driver allocation strategies will improve overall service quality and ensure positive business impact.\n",
        "\n",
        "Answer Here"
      ],
      "metadata": {
        "id": "jLNxxz7MYrdP"
      }
    },
    {
      "cell_type": "markdown",
      "source": [
        "#### Chart - 5"
      ],
      "metadata": {
        "id": "bamQiAODYuh1"
      }
    },
    {
      "cell_type": "code",
      "source": [
        "plt.figure(figsize=(8, 5))\n",
        "sns.countplot(data=uber_df, x='Pickup point', hue='Status', palette='Set2')\n",
        "plt.title('Trip Status by Pickup Point', fontsize=14)\n",
        "plt.xlabel('Pickup Point', fontsize=12)\n",
        "plt.ylabel('Number of Requests', fontsize=12)\n",
        "plt.legend(title='Trip Status')\n",
        "plt.tight_layout()\n",
        "plt.show()\n"
      ],
      "metadata": {
        "id": "TIJwrbroYuh3"
      },
      "execution_count": null,
      "outputs": []
    },
    {
      "cell_type": "markdown",
      "source": [
        "##### 1. Why did you pick the specific chart?"
      ],
      "metadata": {
        "id": "QHF8YVU7Yuh3"
      }
    },
    {
      "cell_type": "markdown",
      "source": [
        "This grouped countplot helps compare trip statuses at each pickup point (City vs Airport) in one view, showing where problems like cancellations or no cars are more common.Answer Here."
      ],
      "metadata": {
        "id": "dcxuIMRPYuh3"
      }
    },
    {
      "cell_type": "markdown",
      "source": [
        "##### 2. What is/are the insight(s) found from the chart?"
      ],
      "metadata": {
        "id": "GwzvFGzlYuh3"
      }
    },
    {
      "cell_type": "markdown",
      "source": [
        "City pickups have more completed trips, but also more cancellations.\n",
        "\n",
        "Airport pickups face more ‘No Cars Available’ issues, especially during peak hours.\n",
        "\n",
        "The airport seems underserved compared to the city.Answer Here"
      ],
      "metadata": {
        "id": "uyqkiB8YYuh3"
      }
    },
    {
      "cell_type": "markdown",
      "source": [
        "##### 3. Will the gained insights help creating a positive business impact?\n",
        "Are there any insights that lead to negative growth? Justify with specific reason."
      ],
      "metadata": {
        "id": "qYpmQ266Yuh3"
      }
    },
    {
      "cell_type": "markdown",
      "source": [
        "Yes.\n",
        "These insights help Uber adjust driver supply:\n",
        "\n",
        "Assign more drivers to the airport during high-demand periods.\n",
        "\n",
        "Investigate why users cancel more in the city (wait time? pricing?).\n",
        "\n",
        "Are there any insights that lead to negative growth? Justify with reasons.\n",
        " Yes.\n",
        "\n",
        "High cancellations in the city may show customer dissatisfaction.\n",
        "\n",
        "No cars at the airport lead to missed revenue opportunities and poor user experience.\n",
        "➤Justification: If not addressed, these issues can hurt customer trust and brand reliability, pushing users to competitors.Answer Here"
      ],
      "metadata": {
        "id": "_WtzZ_hCYuh4"
      }
    },
    {
      "cell_type": "markdown",
      "source": [
        "#### Chart - 6"
      ],
      "metadata": {
        "id": "OH-pJp9IphqM"
      }
    },
    {
      "cell_type": "code",
      "source": [
        "\n",
        "uber_df['Request timestamp'] = pd.to_datetime(uber_df['Request timestamp'], dayfirst=True, errors='coerce')\n",
        "\n",
        "uber_df['Request Hour'] = uber_df['Request timestamp'].dt.hour\n",
        "\n",
        "plt.figure(figsize=(12, 6))\n",
        "sns.countplot(data=uber_df, x='Request Hour', hue='Status', palette='dark')\n",
        "plt.title('Hourly Trip Requests by Status', fontsize=14)\n",
        "plt.xlabel('Hour of Day', fontsize=12)\n",
        "plt.ylabel('Number of Requests', fontsize=12)\n",
        "plt.legend(title='Trip Status')\n",
        "plt.tight_layout()\n",
        "plt.show()\n"
      ],
      "metadata": {
        "id": "kuRf4wtuphqN"
      },
      "execution_count": null,
      "outputs": []
    },
    {
      "cell_type": "markdown",
      "source": [
        "##### 1. Why did you pick the specific chart?"
      ],
      "metadata": {
        "id": "bbFf2-_FphqN"
      }
    },
    {
      "cell_type": "markdown",
      "source": [
        "This chart shows how customer requests and trip statuses fluctuate by hour, helping identify peak hours and operational gapsAnswer Here."
      ],
      "metadata": {
        "id": "loh7H2nzphqN"
      }
    },
    {
      "cell_type": "markdown",
      "source": [
        "##### 2. What is/are the insight(s) found from the chart?"
      ],
      "metadata": {
        "id": "_ouA3fa0phqN"
      }
    },
    {
      "cell_type": "markdown",
      "source": [
        "Peak hours are 7–9 AM and 5–9 PM.\n",
        "\n",
        "Morning peaks (around 8 AM) see high cancellations and ‘No Cars Available’ statuses.\n",
        "\n",
        "Evening peaks also show large demand but with better trip completion rates.Answer Here"
      ],
      "metadata": {
        "id": "VECbqPI7phqN"
      }
    },
    {
      "cell_type": "markdown",
      "source": [
        "##### 3. Will the gained insights help creating a positive business impact?\n",
        "Are there any insights that lead to negative growth? Justify with specific reason."
      ],
      "metadata": {
        "id": "Seke61FWphqN"
      }
    },
    {
      "cell_type": "markdown",
      "source": [
        "Yes.\n",
        "\n",
        "Helps Uber assign more drivers during peak hours, reducing cancellations and unavailability.\n",
        "\n",
        "Can use dynamic pricing or driver incentives in critical time slots.\n",
        "\n",
        "Are there any insights that lead to negative growth? Justify with reasons.\n",
        "Yes.\n",
        "\n",
        "High cancellations during early mornings may indicate driver unavailability or fatigue.\n",
        "\n",
        "No cars during rush hours can lead to customer churn and loss of loyalty.\n",
        " Justification: Unfulfilled demand reduces user trust and impacts brand reliability, especially for time-sensitive travel (like airport drop-offs).\n",
        "\n",
        "Answer Here"
      ],
      "metadata": {
        "id": "DW4_bGpfphqN"
      }
    },
    {
      "cell_type": "markdown",
      "source": [
        "#### Chart - 7"
      ],
      "metadata": {
        "id": "PIIx-8_IphqN"
      }
    },
    {
      "cell_type": "code",
      "source": [
        "plt.figure(figsize=(8, 5))\n",
        "sns.countplot(data=uber_df, x='Pickup point', hue='Status', palette='dark')\n",
        "plt.title('Trip Status by Pickup Point', fontsize=14)\n",
        "plt.xlabel('Pickup Point', fontsize=12)\n",
        "plt.ylabel('Number of Trips', fontsize=12)\n",
        "plt.legend(title='Status')\n",
        "plt.tight_layout()\n",
        "plt.show()\n"
      ],
      "metadata": {
        "id": "lqAIGUfyphqO"
      },
      "execution_count": null,
      "outputs": []
    },
    {
      "cell_type": "markdown",
      "source": [
        "##### 1. Why did you pick the specific chart?"
      ],
      "metadata": {
        "id": "t27r6nlMphqO"
      }
    },
    {
      "cell_type": "markdown",
      "source": [
        "This chart reveals which pickup location faces more cancellations or unavailability, helping identify operational inefficiencies.Answer Here."
      ],
      "metadata": {
        "id": "iv6ro40sphqO"
      }
    },
    {
      "cell_type": "markdown",
      "source": [
        "##### 2. What is/are the insight(s) found from the chart?"
      ],
      "metadata": {
        "id": "r2jJGEOYphqO"
      }
    },
    {
      "cell_type": "markdown",
      "source": [
        "City pickup point has a higher number of cancellations.\n",
        "\n",
        "Airport pickup point shows more cases of ‘No Cars Available’.\n",
        "\n",
        "Completed trips are better balanced but still lower in volume.Answer Here"
      ],
      "metadata": {
        "id": "Po6ZPi4hphqO"
      }
    },
    {
      "cell_type": "markdown",
      "source": [
        "##### 3. Will the gained insights help creating a positive business impact?\n",
        "Are there any insights that lead to negative growth? Justify with specific reason."
      ],
      "metadata": {
        "id": "b0JNsNcRphqO"
      }
    },
    {
      "cell_type": "markdown",
      "source": [
        "Yes.\n",
        "\n",
        "Helps Uber plan targeted driver allocation:\n",
        " More drivers needed at the airport during demand peaks.\n",
        " Need to understand why city cancellations are high (maybe long wait times or pricing).\n",
        "\n",
        "Are there any insights that lead to negative growth? Justify with specific reason.\n",
        " Yes.\n",
        "\n",
        "Frequent ‘No Cars Available’ at airport hurts revenue from inbound customers (first impression matters).\n",
        "\n",
        "High cancellation in city could drive loyal customers to competitors.\n",
        "Justification: Poor pickup reliability leads to dissatisfaction, poor ratings, and revenue loss, especially in areas with strong demand.\n",
        "\n",
        "Answer Here"
      ],
      "metadata": {
        "id": "xvSq8iUTphqO"
      }
    },
    {
      "cell_type": "markdown",
      "source": [
        "#### Chart - 8"
      ],
      "metadata": {
        "id": "BZR9WyysphqO"
      }
    },
    {
      "cell_type": "code",
      "source": [
        "import pandas as pd\n",
        "import matplotlib.pyplot as plt\n",
        "import seaborn as sns\n",
        "\n"
      ],
      "metadata": {
        "id": "TdPTWpAVphqO"
      },
      "execution_count": null,
      "outputs": []
    },
    {
      "cell_type": "code",
      "source": [
        "from google.colab import files\n",
        "uploaded = files.upload()\n",
        "\n"
      ],
      "metadata": {
        "id": "T5dB_7JOBaNQ"
      },
      "execution_count": null,
      "outputs": []
    },
    {
      "cell_type": "code",
      "source": [
        "import pandas as pd\n",
        "\n",
        "# Load the dataset\n",
        "uber_df = pd.read_csv('uber_data_clean.csv')\n",
        "\n",
        "# Show the first 5 rows\n",
        "uber_df.head()\n"
      ],
      "metadata": {
        "id": "f6B-4hUhB3KF"
      },
      "execution_count": null,
      "outputs": []
    },
    {
      "cell_type": "code",
      "source": [
        "import matplotlib.pyplot as plt\n",
        "import seaborn as sns\n",
        "\n",
        "# Step 1: Ensure timestamps are in datetime format\n",
        "uber_df['Request timestamp'] = pd.to_datetime(uber_df['Request timestamp'], dayfirst=True, errors='coerce')\n",
        "\n",
        "# Step 2: Create Request Hour column\n",
        "uber_df['Request Hour'] = uber_df['Request timestamp'].dt.hour\n",
        "\n",
        "# Step 3: Plot chart\n",
        "plt.figure(figsize=(14, 6))\n",
        "sns.countplot(data=uber_df, x='Request Hour', hue='Status', palette='dark')\n",
        "\n",
        "plt.title('Trip Status by Hour of the Day', fontsize=16)\n",
        "plt.xlabel('Hour of Day', fontsize=12)\n",
        "plt.ylabel('Number of Requests', fontsize=12)\n",
        "plt.legend(title='Trip Status')\n",
        "plt.xticks(range(0, 24))\n",
        "plt.grid(axis='y', linestyle='--', alpha=0.3)\n",
        "plt.tight_layout()\n",
        "plt.show()\n"
      ],
      "metadata": {
        "id": "EPP9M9kNCE8N"
      },
      "execution_count": null,
      "outputs": []
    },
    {
      "cell_type": "markdown",
      "source": [
        "##### 1. Why did you pick the specific chart?"
      ],
      "metadata": {
        "id": "jj7wYXLtphqO"
      }
    },
    {
      "cell_type": "markdown",
      "source": [
        "To identify peak hours for each trip status and see when issues like cancellations or no cars occur most often.Answer Here."
      ],
      "metadata": {
        "id": "Ob8u6rCTphqO"
      }
    },
    {
      "cell_type": "markdown",
      "source": [
        "##### 2. What is/are the insight(s) found from the chart?"
      ],
      "metadata": {
        "id": "eZrbJ2SmphqO"
      }
    },
    {
      "cell_type": "markdown",
      "source": [
        "High number of “No Cars Available” during early morning (5 AM–9 AM).\n",
        "\n",
        "Cancellations are frequent in evening hours (5 PM–9 PM).\n",
        "\n",
        "Completed trips drop drastically during peak hours due to supply-demand mismatch.Answer Here"
      ],
      "metadata": {
        "id": "mZtgC_hjphqO"
      }
    },
    {
      "cell_type": "markdown",
      "source": [
        "##### 3. Will the gained insights help creating a positive business impact?\n",
        "Are there any insights that lead to negative growth? Justify with specific reason."
      ],
      "metadata": {
        "id": "rFu4xreNphqO"
      }
    },
    {
      "cell_type": "markdown",
      "source": [
        "Yes.\n",
        "\n",
        "Helps Uber assign more drivers during peak hours, reducing cancellations and unavailability.\n",
        "\n",
        "Can use dynamic pricing or driver incentives in critical time slots.\n",
        "\n",
        "Are there any insights that lead to negative growth? Justify with reasons.\n",
        "Yes.\n",
        "\n",
        "High cancellations during early mornings may indicate driver unavailability or fatigue.\n",
        "\n",
        "No cars during rush hours can lead to customer churn and loss of loyalty.\n",
        " Justification: Unfulfilled demand reduces user trust and impacts brand reliability, especially for time-sensitive travel (like airport drop-offs).Answer Here"
      ],
      "metadata": {
        "id": "ey_0qi68phqO"
      }
    },
    {
      "cell_type": "markdown",
      "source": [
        "#### Chart - 9"
      ],
      "metadata": {
        "id": "YJ55k-q6phqO"
      }
    },
    {
      "cell_type": "code",
      "source": [
        "import matplotlib.pyplot as plt\n",
        "import seaborn as sns\n",
        "\n",
        "# Step 1: Plot the chart\n",
        "plt.figure(figsize=(8, 6))\n",
        "sns.countplot(data=uber_df, x='Pickup point', hue='Status', palette='Set1')\n",
        "\n",
        "# Step 2: Customize the chart\n",
        "plt.title('Trip Status by Pickup Point', fontsize=16)\n",
        "plt.xlabel('Pickup Point', fontsize=12)\n",
        "plt.ylabel('Number of Requests', fontsize=12)\n",
        "plt.legend(title='Trip Status')\n",
        "plt.grid(axis='y', linestyle='--', alpha=0.3)\n",
        "plt.tight_layout()\n",
        "plt.show()\n"
      ],
      "metadata": {
        "id": "B2aS4O1ophqO"
      },
      "execution_count": null,
      "outputs": []
    },
    {
      "cell_type": "markdown",
      "source": [
        "##### 1. Why did you pick the specific chart?"
      ],
      "metadata": {
        "id": "gCFgpxoyphqP"
      }
    },
    {
      "cell_type": "markdown",
      "source": [
        "This chart helps visualize how trip outcomes (Completed, Cancelled, No Cars Available) vary between city and airport pickups — helping Uber manage location-based driver deployment.\n",
        "\n",
        "Answer Here."
      ],
      "metadata": {
        "id": "TVxDimi2phqP"
      }
    },
    {
      "cell_type": "markdown",
      "source": [
        "##### 2. What is/are the insight(s) found from the chart?"
      ],
      "metadata": {
        "id": "OVtJsKN_phqQ"
      }
    },
    {
      "cell_type": "markdown",
      "source": [
        "City Pickup Point: Has a large number of “No Cars Available” and “Cancelled” statuses — showing high demand but insufficient supply.\n",
        "\n",
        "Airport Pickup Point: Slightly better completion rate but still has issues with availability and cancellations.Answer Here"
      ],
      "metadata": {
        "id": "ngGi97qjphqQ"
      }
    },
    {
      "cell_type": "markdown",
      "source": [
        "##### 3. Will the gained insights help creating a positive business impact?\n",
        "Are there any insights that lead to negative growth? Justify with specific reason."
      ],
      "metadata": {
        "id": "lssrdh5qphqQ"
      }
    },
    {
      "cell_type": "markdown",
      "source": [
        "Yes, because:\n",
        "\n",
        "Uber can optimize driver allocation based on location-specific demand.\n",
        "\n",
        "Can launch location-based driver incentives to balance availability.\n",
        "\n",
        "Helps Uber decide where to station more cars during peak periods.\n",
        "\n",
        " Negative Insight?\n",
        "Yes — City pickups having more cancellations or “No Cars Available” indicates:\n",
        "\n",
        "Lost revenue\n",
        "\n",
        "Customer frustration\n",
        "\n",
        "Potential switch to competitors\n",
        "\n",
        "Solving this helps turn a weak spot into a competitive strength."
      ],
      "metadata": {
        "id": "tBpY5ekJphqQ"
      }
    },
    {
      "cell_type": "markdown",
      "source": [
        "#### Chart - 10"
      ],
      "metadata": {
        "id": "U2RJ9gkRphqQ"
      }
    },
    {
      "cell_type": "code",
      "source": [
        "import pandas as pd\n",
        "import matplotlib.pyplot as plt\n",
        "\n",
        "uber_df = pd.read_csv(\"uber_data_clean.csv\")\n",
        "\n",
        "uber_df['Request timestamp'] = pd.to_datetime(uber_df['Request timestamp'], dayfirst=True, errors='coerce')\n",
        "\n",
        "uber_df['Request Hour'] = uber_df['Request timestamp'].dt.hour\n",
        "\n",
        "status_hour_crosstab = pd.crosstab(uber_df['Request Hour'], uber_df['Status'])\n",
        "\n",
        "status_hour_crosstab.plot(kind='bar', stacked=True, figsize=(12, 6), colormap='Set2')\n",
        "\n",
        "plt.title('Trip Status by Hour of the Day', fontsize=14)\n",
        "plt.xlabel('Hour of the Day')\n",
        "plt.ylabel('Number of Trips')\n",
        "plt.xticks(rotation=0)\n",
        "plt.legend(title='Trip Status')\n",
        "plt.tight_layout()\n",
        "plt.show()\n"
      ],
      "metadata": {
        "id": "GM7a4YP4phqQ"
      },
      "execution_count": null,
      "outputs": []
    },
    {
      "cell_type": "markdown",
      "source": [
        "##### 1. Why did you pick the specific chart?"
      ],
      "metadata": {
        "id": "1M8mcRywphqQ"
      }
    },
    {
      "cell_type": "markdown",
      "source": [
        "A stacked bar chart effectively shows how different trip statuses (Completed, Cancelled, No Cars Available) change hour by hour throughout the day. It highlights time-based operational challenges.\n",
        "\n",
        "Answer Here."
      ],
      "metadata": {
        "id": "8agQvks0phqQ"
      }
    },
    {
      "cell_type": "markdown",
      "source": [
        "##### 2. What is/are the insight(s) found from the chart?"
      ],
      "metadata": {
        "id": "tgIPom80phqQ"
      }
    },
    {
      "cell_type": "markdown",
      "source": [
        "Early morning (5–9 AM) and evening (5–9 PM) have the highest number of requests.\n",
        "\n",
        "Cancellation rate is high during the morning peak hours, possibly due to driver unavailability or traffic.\n",
        "\n",
        "\"No Cars Available\" spikes in the evening hours, indicating a supply-demand gap.\n",
        "\n",
        "Answer Here"
      ],
      "metadata": {
        "id": "Qp13pnNzphqQ"
      }
    },
    {
      "cell_type": "markdown",
      "source": [
        "##### 3. Will the gained insights help creating a positive business impact?\n",
        "Are there any insights that lead to negative growth? Justify with specific reason."
      ],
      "metadata": {
        "id": "JMzcOPDDphqR"
      }
    },
    {
      "cell_type": "markdown",
      "source": [
        "Yes. Here’s how:\n",
        "\n",
        "Uber can increase driver incentives during peak hours to reduce cancellations.\n",
        "\n",
        "Demand forecasts can help in allocating cars proactively to high-demand zones.\n",
        "\n",
        "May help improve customer satisfaction and reduce lost revenue due to unserved bookings.\n",
        "\n",
        " Negative Insight: Evening no-availability could mean Uber is losing customers to competitors during high-demand hours.Answer Here"
      ],
      "metadata": {
        "id": "R4Ka1PC2phqR"
      }
    },
    {
      "cell_type": "markdown",
      "source": [
        "#### Chart - 11"
      ],
      "metadata": {
        "id": "x-EpHcCOp1ci"
      }
    },
    {
      "cell_type": "code",
      "source": [
        "import seaborn as sns\n",
        "import matplotlib.pyplot as plt\n",
        "\n",
        "plt.figure(figsize=(8, 5))\n",
        "sns.countplot(data=uber_df, x='Pickup point', hue='Status', palette='Set1')\n",
        "\n",
        "plt.title('Trip Status by Pickup Point', fontsize=14)\n",
        "plt.xlabel('Pickup Point')\n",
        "plt.ylabel('Number of Trips')\n",
        "plt.legend(title='Trip Status')\n",
        "plt.tight_layout()\n",
        "plt.show()\n"
      ],
      "metadata": {
        "id": "mAQTIvtqp1cj"
      },
      "execution_count": null,
      "outputs": []
    },
    {
      "cell_type": "markdown",
      "source": [
        "##### 1. Why did you pick the specific chart?"
      ],
      "metadata": {
        "id": "X_VqEhTip1ck"
      }
    },
    {
      "cell_type": "markdown",
      "source": [
        "A grouped count plot (with hue) is ideal for comparing how trip statuses vary between two categories—in this case, Airport and City. It clearly shows the differences side by side.Answer Here."
      ],
      "metadata": {
        "id": "-vsMzt_np1ck"
      }
    },
    {
      "cell_type": "markdown",
      "source": [
        "##### 2. What is/are the insight(s) found from the chart?"
      ],
      "metadata": {
        "id": "8zGJKyg5p1ck"
      }
    },
    {
      "cell_type": "markdown",
      "source": [
        "City pickup has a high number of cancellations.\n",
        "\n",
        "No Cars Available is significantly higher at the Airport.\n",
        "\n",
        "Completed trips are more from the City than from the Airport.\n",
        "\n",
        "Answer Here"
      ],
      "metadata": {
        "id": "ZYdMsrqVp1ck"
      }
    },
    {
      "cell_type": "markdown",
      "source": [
        "##### 3. Will the gained insights help creating a positive business impact?\n",
        "Are there any insights that lead to negative growth? Justify with specific reason."
      ],
      "metadata": {
        "id": "PVzmfK_Ep1ck"
      }
    },
    {
      "cell_type": "markdown",
      "source": [
        "Yes. These insights can guide business decisions such as:\n",
        "\n",
        "Improving fleet allocation at the Airport, especially during evening hours.\n",
        "\n",
        "Investigating cancellation reasons in the City—could be due to traffic, wait time, or rider behavior.\n",
        "\n",
        "These actions could improve customer satisfaction and driver efficiency.\n",
        "\n",
        " Negative Insight: The high number of “No Cars Available” at the Airport could lead to poor user experience and might push users to try alternative services like taxis or other ride apps.Answer Here"
      ],
      "metadata": {
        "id": "druuKYZpp1ck"
      }
    },
    {
      "cell_type": "markdown",
      "source": [
        "#### Chart - 12"
      ],
      "metadata": {
        "id": "n3dbpmDWp1ck"
      }
    },
    {
      "cell_type": "code",
      "source": [
        "import seaborn as sns\n",
        "import matplotlib.pyplot as plt\n",
        "\n",
        "# Ensure Request Hour column exists\n",
        "if 'Request Hour' not in uber_df.columns:\n",
        "    uber_df['Request timestamp'] = pd.to_datetime(uber_df['Request timestamp'], dayfirst=True, errors='coerce')\n",
        "    uber_df['Request Hour'] = uber_df['Request timestamp'].dt.hour\n",
        "\n",
        "plt.figure(figsize=(12, 6))\n",
        "sns.countplot(data=uber_df, x='Request Hour', hue='Status', palette='coolwarm')\n",
        "\n",
        "plt.title('Trip Status Distribution by Hour', fontsize=14)\n",
        "plt.xlabel('Hour of Day')\n",
        "plt.ylabel('Number of Trips')\n",
        "plt.legend(title='Trip Status')\n",
        "plt.xticks(range(0, 24))\n",
        "plt.tight_layout()\n",
        "plt.show()\n"
      ],
      "metadata": {
        "id": "bwevp1tKp1ck"
      },
      "execution_count": null,
      "outputs": []
    },
    {
      "cell_type": "markdown",
      "source": [
        "##### 1. Why did you pick the specific chart?"
      ],
      "metadata": {
        "id": "ylSl6qgtp1ck"
      }
    },
    {
      "cell_type": "markdown",
      "source": [
        "This stacked count plot by hour clearly shows how trip statuses are distributed through the day. It helps detect patterns such as when cancellations or unavailability peak.Answer Here."
      ],
      "metadata": {
        "id": "m2xqNkiQp1ck"
      }
    },
    {
      "cell_type": "markdown",
      "source": [
        "##### 2. What is/are the insight(s) found from the chart?"
      ],
      "metadata": {
        "id": "ZWILFDl5p1ck"
      }
    },
    {
      "cell_type": "markdown",
      "source": [
        "Completed trips peak during morning and evening commute hours (8 AM, 6 PM).\n",
        "\n",
        "Cancellations peak in early morning and late evening hours.\n",
        "\n",
        "No Cars Available is very high during late evening/night (8 PM to midnight), especially near the airport.Answer Here"
      ],
      "metadata": {
        "id": "x-lUsV2mp1ck"
      }
    },
    {
      "cell_type": "markdown",
      "source": [
        "##### 3. Will the gained insights help creating a positive business impact?\n",
        "Are there any insights that lead to negative growth? Justify with specific reason."
      ],
      "metadata": {
        "id": "M7G43BXep1ck"
      }
    },
    {
      "cell_type": "markdown",
      "source": [
        "Yes. These patterns help Uber:\n",
        "\n",
        "Optimize driver shift planning (more drivers during peak unavailability hours).\n",
        "\n",
        "Implement dynamic pricing or incentives during high cancellation hours.\n",
        "\n",
        "Reduce missed demand, improving revenue and customer trust.\n",
        "\n",
        "Negative Insight: If the company doesn’t act on this data, they risk customer churn due to repeated unavailability during high-demand hours.Answer Here"
      ],
      "metadata": {
        "id": "5wwDJXsLp1cl"
      }
    },
    {
      "cell_type": "markdown",
      "source": [
        "#### Chart - 13"
      ],
      "metadata": {
        "id": "Ag9LCva-p1cl"
      }
    },
    {
      "cell_type": "code",
      "source": [
        "import seaborn as sns\n",
        "import matplotlib.pyplot as plt\n",
        "\n",
        "plt.figure(figsize=(8, 6))\n",
        "sns.countplot(data=uber_df, x='Pickup point', hue='Status', palette='Set2')\n",
        "\n",
        "plt.title('Trip Status by Pickup Point', fontsize=14)\n",
        "plt.xlabel('Pickup Point')\n",
        "plt.ylabel('Number of Trips')\n",
        "plt.legend(title='Status')\n",
        "plt.tight_layout()\n",
        "plt.show()\n"
      ],
      "metadata": {
        "id": "EUfxeq9-p1cl"
      },
      "execution_count": null,
      "outputs": []
    },
    {
      "cell_type": "markdown",
      "source": [
        "##### 1. Why did you pick the specific chart?"
      ],
      "metadata": {
        "id": "E6MkPsBcp1cl"
      }
    },
    {
      "cell_type": "markdown",
      "source": [
        "This clustered bar chart gives a clear comparison of how trip statuses differ between City and Airport, helping analyze location-based service performance.\n",
        "\n",
        "Answer Here."
      ],
      "metadata": {
        "id": "V22bRsFWp1cl"
      }
    },
    {
      "cell_type": "markdown",
      "source": [
        "##### 2. What is/are the insight(s) found from the chart?"
      ],
      "metadata": {
        "id": "2cELzS2fp1cl"
      }
    },
    {
      "cell_type": "markdown",
      "source": [
        "Airport shows a very high count of \"No Cars Available\".\n",
        "\n",
        "City pickups have a more balanced distribution but still show cancellations.\n",
        "\n",
        "Completed trips are more frequent from the City than the Airport.\n",
        "\n",
        "Answer Here"
      ],
      "metadata": {
        "id": "ozQPc2_Ip1cl"
      }
    },
    {
      "cell_type": "markdown",
      "source": [
        "##### 3. Will the gained insights help creating a positive business impact?\n",
        "Are there any insights that lead to negative growth? Justify with specific reason."
      ],
      "metadata": {
        "id": "3MPXvC8up1cl"
      }
    },
    {
      "cell_type": "markdown",
      "source": [
        "Yes, absolutely.\n",
        "\n",
        "Uber can allocate more cars near the Airport, especially during peak hours.\n",
        "\n",
        "Improve demand prediction and availability strategies for high-miss zones.\n",
        "\n",
        "Create special driver incentives to target underserved pickup points.\n",
        "\n",
        "Negative Insight: If Uber continues to have low availability from the Airport, it could damage customer satisfaction and trust, leading to negative reviews and lost revenue.Answer Here"
      ],
      "metadata": {
        "id": "GL8l1tdLp1cl"
      }
    },
    {
      "cell_type": "markdown",
      "source": [
        "#### Chart - 14 - Correlation Heatmap"
      ],
      "metadata": {
        "id": "NC_X3p0fY2L0"
      }
    },
    {
      "cell_type": "code",
      "source": [
        "import seaborn as sns\n",
        "import matplotlib.pyplot as plt\n",
        "\n",
        "# Select relevant numeric columns for correlation\n",
        "numeric_cols = uber_df[['Trip duration(mins)', 'Request Hour']]\n",
        "\n",
        "# Compute correlation matrix\n",
        "correlation_matrix = numeric_cols.corr()\n",
        "\n",
        "# Plot heatmap\n",
        "plt.figure(figsize=(6, 4))\n",
        "sns.heatmap(correlation_matrix, annot=True, cmap='coolwarm', fmt=\".2f\", linewidths=0.5)\n",
        "plt.title('Correlation Heatmap')\n",
        "plt.tight_layout()\n",
        "plt.show()\n"
      ],
      "metadata": {
        "id": "xyC9zolEZNRQ"
      },
      "execution_count": null,
      "outputs": []
    },
    {
      "cell_type": "markdown",
      "source": [
        "##### 1. Why did you pick the specific chart?"
      ],
      "metadata": {
        "id": "UV0SzAkaZNRQ"
      }
    },
    {
      "cell_type": "markdown",
      "source": [
        "The correlation heatmap gives a compact, visual summary of how strongly numerical variables relate to one another. It helps spot patterns quickly for decision-making.\n",
        "\n",
        "Answer Here."
      ],
      "metadata": {
        "id": "DVPuT8LYZNRQ"
      }
    },
    {
      "cell_type": "markdown",
      "source": [
        "##### 2. What is/are the insight(s) found from the chart?"
      ],
      "metadata": {
        "id": "YPEH6qLeZNRQ"
      }
    },
    {
      "cell_type": "markdown",
      "source": [
        "There is a slight negative correlation between Request Hour and Trip Duration.\n",
        "\n",
        "Meaning: During some hours, trip durations tend to be shorter.\n",
        "\n",
        "The correlation is weak, indicating no strong linear relationship between these two variables.\n",
        "\n",
        "Answer Here"
      ],
      "metadata": {
        "id": "bfSqtnDqZNRR"
      }
    },
    {
      "cell_type": "markdown",
      "source": [
        "#### Chart - 15 - Pair Plot"
      ],
      "metadata": {
        "id": "q29F0dvdveiT"
      }
    },
    {
      "cell_type": "code",
      "source": [
        "import seaborn as sns\n",
        "import matplotlib.pyplot as plt\n",
        "\n",
        "# Prepare the dataset with relevant numeric columns\n",
        "pairplot_df = uber_df[['Trip duration(mins)', 'Request Hour']].dropna()\n",
        "\n",
        "# Create the pair plot\n",
        "sns.pairplot(pairplot_df)\n",
        "plt.suptitle(\"Pair Plot of Trip duration and Request Hour\", y=1.02)\n",
        "plt.show()\n"
      ],
      "metadata": {
        "id": "o58-TEIhveiU"
      },
      "execution_count": null,
      "outputs": []
    },
    {
      "cell_type": "markdown",
      "source": [
        "##### 1. Why did you pick the specific chart?"
      ],
      "metadata": {
        "id": "EXh0U9oCveiU"
      }
    },
    {
      "cell_type": "markdown",
      "source": [
        "A pair plot allows us to explore the distribution of individual variables and relationships between them in one view. It is helpful for identifying clusters, trends, and outliers.\n",
        "\n",
        "Answer Here."
      ],
      "metadata": {
        "id": "eMmPjTByveiU"
      }
    },
    {
      "cell_type": "markdown",
      "source": [
        "##### 2. What is/are the insight(s) found from the chart?"
      ],
      "metadata": {
        "id": "22aHeOlLveiV"
      }
    },
    {
      "cell_type": "markdown",
      "source": [
        "The scatter plot shows that trip durations are concentrated during specific request hours, especially between 5 AM to 10 AM and 5 PM to 9 PM (possible peak times).\n",
        "\n",
        "The histogram shows that:\n",
        "\n",
        "Most requests occur during working hours.\n",
        "\n",
        "Short-duration trips are more common than long ones.\n",
        "\n",
        "Answer Here"
      ],
      "metadata": {
        "id": "uPQ8RGwHveiV"
      }
    },
    {
      "cell_type": "markdown",
      "source": [
        "## **5. Solution to Business Objective**"
      ],
      "metadata": {
        "id": "JcMwzZxoAimU"
      }
    },
    {
      "cell_type": "markdown",
      "source": [
        "#### What do you suggest the client to achieve Business Objective ?\n",
        "Explain Briefly."
      ],
      "metadata": {
        "id": "8G2x9gOozGDZ"
      }
    },
    {
      "cell_type": "markdown",
      "source": [
        "1. Minimize Trip Cancellations\n",
        "Insights from Charts:\n",
        "\n",
        "High cancellation rates from the City during morning hours.\n",
        "\n",
        "Suggestions:\n",
        "\n",
        " Introduce driver penalties or lower incentives for last-minute cancellations.\n",
        "\n",
        " Offer passenger incentives (e.g., discounts) to reschedule instead of canceling.\n",
        " Implement a driver preference filter (e.g., \"willing to take morning peak rides\").\n",
        "\n",
        " 2. Bridge the Supply-Demand Gap\n",
        "Insights from Charts:\n",
        "\n",
        "\"No cars available\" is frequent at the Airport during evening hours.\n",
        "\n",
        "Suggestions:\n",
        "\n",
        " Dynamic fleet management: Redirect idle drivers to Airport during 5–10 PM.\n",
        "\n",
        "Use predictive demand models to alert drivers in advance.\n",
        "\n",
        " Surge incentives for drivers in underserved time slots and locations.\n",
        "\n",
        " 3. Improve Customer Experience\n",
        "Insights from Chart 8 & 10:\n",
        "\n",
        "Peak hour failures frustrate users, reducing brand trust.\n",
        "\n",
        "Suggestions:\n",
        "\n",
        " Real-time alerts for users during known problem windows with suggestions (e.g., earlier/later bookings).\n",
        "\n",
        " Loyalty rewards for frequent riders who face fewer issues.\n",
        "\n",
        " 4. Optimize Driver Utilization\n",
        "Insights:\n",
        "\n",
        "Many requests go unserved while some drivers remain idle in low-demand zones.\n",
        "\n",
        "Suggestions:\n",
        "\n",
        " Geo-fencing + heatmaps to direct idle drivers to high-demand spots.\n",
        "\n",
        " Auto-balancing system to shift supply intelligently between city & airport.\n",
        "\n",
        " 5. Increase Revenue & Retention\n",
        "Suggestions:\n",
        "\n",
        " Flexible pricing models (mini, shared, prime) for peak hours to serve more users.\n",
        "\n",
        " Targeted promotions in low-demand times to balance rides across the day.\n",
        "\n",
        " Monitor real-time KPIs like conversion rates, cancellations, and ride completions.\n",
        "\n",
        " Final Message to Client:\n",
        "“By leveraging time-based and location-specific insights, Uber can proactively reduce trip failures, better utilize its fleet, and significantly improve rider satisfaction — all leading to a more efficient and profitable operation.”Answer Here."
      ],
      "metadata": {
        "id": "pASKb0qOza21"
      }
    },
    {
      "cell_type": "markdown",
      "source": [
        "# **Conclusion**"
      ],
      "metadata": {
        "id": "gCX9965dhzqZ"
      }
    },
    {
      "cell_type": "markdown",
      "source": [
        "The analysis of Uber's trip request data reveals critical operational challenges and hidden patterns affecting service quality and customer satisfaction. Key findings include:\n",
        "\n",
        "A high number of trip cancellations and unfulfilled requests during peak hours, especially in the City during the morning and Airport during the evening.\n",
        "\n",
        "A significant mismatch between supply and demand, leading to frequent \"No cars available\" errors.\n",
        "\n",
        "Time of day and pickup location are the most influential factors in trip status outcomes.\n",
        "\n",
        "Data shows clear opportunities for optimizing driver allocation, enhancing app communication, and improving customer loyalty.\n",
        "\n",
        "By implementing data-driven strategies such as dynamic driver deployment, incentive programs, and real-time demand forecasting, Uber can:\n",
        "\n",
        " *Reduce service failures\n",
        " *Improve rider and driver experience\n",
        " *Increase ride completion rates\n",
        " *Boost revenue and operational efficiency\n",
        "\n",
        "This analysis provides a foundation for smarter decision-making and sets the path for better business performance and customer satisfaction.\n",
        "\n"
      ],
      "metadata": {
        "id": "Fjb1IsQkh3yE"
      }
    },
    {
      "cell_type": "markdown",
      "source": [
        "### ***Hurrah! You have successfully completed your EDA Capstone Project !!!***"
      ],
      "metadata": {
        "id": "gIfDvo9L0UH2"
      }
    },
    {
      "cell_type": "code",
      "source": [],
      "metadata": {
        "id": "dYX880etpL0x"
      },
      "execution_count": null,
      "outputs": []
    },
    {
      "cell_type": "code",
      "source": [],
      "metadata": {
        "id": "-6Vl263upPVI"
      },
      "execution_count": null,
      "outputs": []
    }
  ]
}